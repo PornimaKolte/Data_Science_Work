{
  "nbformat": 4,
  "nbformat_minor": 0,
  "metadata": {
    "colab": {
      "name": "Shala2020_Assignment1.ipynb",
      "provenance": [],
      "collapsed_sections": []
    },
    "kernelspec": {
      "name": "python3",
      "display_name": "Python 3"
    }
  },
  "cells": [
    {
      "cell_type": "code",
      "metadata": {
        "id": "vC2S7j3wrpTi",
        "colab_type": "code",
        "outputId": "cb27c504-9b6d-4290-fda8-2ed0a10af7c4",
        "colab": {
          "base_uri": "https://localhost:8080/",
          "height": 156
        }
      },
      "source": [
        "'''Initialize and print two arrays 𝑐 and 𝑑 having the following properties:\n",
        "\n",
        "    𝑐 is a row vector with all non-negative integer values less than 100\n",
        "    𝑑 is a square matrix of size 3 having all entries as 0.0\n",
        "'''\n",
        "\n",
        "import numpy as np\n",
        "c=np.arange(100)\n",
        "print(c)\n",
        "z=np.empty([3,3])\n",
        "z.fill(0)\n",
        "print(z)\n"
      ],
      "execution_count": 0,
      "outputs": [
        {
          "output_type": "stream",
          "text": [
            "[ 0  1  2  3  4  5  6  7  8  9 10 11 12 13 14 15 16 17 18 19 20 21 22 23\n",
            " 24 25 26 27 28 29 30 31 32 33 34 35 36 37 38 39 40 41 42 43 44 45 46 47\n",
            " 48 49 50 51 52 53 54 55 56 57 58 59 60 61 62 63 64 65 66 67 68 69 70 71\n",
            " 72 73 74 75 76 77 78 79 80 81 82 83 84 85 86 87 88 89 90 91 92 93 94 95\n",
            " 96 97 98 99]\n",
            "[[0. 0. 0.]\n",
            " [0. 0. 0.]\n",
            " [0. 0. 0.]]\n"
          ],
          "name": "stdout"
        }
      ]
    },
    {
      "cell_type": "code",
      "metadata": {
        "id": "GJwhfm6ssEWa",
        "colab_type": "code",
        "outputId": "335a0a3c-0330-4a67-8c14-fa63ca3ca72b",
        "colab": {
          "base_uri": "https://localhost:8080/",
          "height": 225
        }
      },
      "source": [
        "#Import numpy with an alias name np. Initialize two arrays 𝑎, 𝑏 of size 3×5 with random values and print them. \n",
        "a=np.empty([3,5])\n",
        "b=np.empty([3,5])\n",
        "print(a)\n",
        "print(b)"
      ],
      "execution_count": 0,
      "outputs": [
        {
          "output_type": "stream",
          "text": [
            "[[1.0006086e-316 0.0000000e+000 0.0000000e+000 0.0000000e+000\n",
            "  0.0000000e+000]\n",
            " [0.0000000e+000 0.0000000e+000 0.0000000e+000 0.0000000e+000\n",
            "  0.0000000e+000]\n",
            " [0.0000000e+000 0.0000000e+000 0.0000000e+000 0.0000000e+000\n",
            "  0.0000000e+000]]\n",
            "[[1.00061495e-316 1.01855798e-312 1.01855798e-312 9.54898106e-313\n",
            "  1.14587773e-312]\n",
            " [1.03977794e-312 1.23075756e-312 1.03977794e-312 1.10343781e-312\n",
            "  9.76118064e-313]\n",
            " [1.18831764e-312 1.01855798e-312 1.01855798e-312 2.22809558e-312\n",
            "  2.14321575e-312]]\n"
          ],
          "name": "stdout"
        }
      ]
    },
    {
      "cell_type": "code",
      "metadata": {
        "id": "g_6IBoQowq1H",
        "colab_type": "code",
        "outputId": "964711d0-1649-4dcd-b9b0-550915202541",
        "colab": {
          "base_uri": "https://localhost:8080/",
          "height": 86
        }
      },
      "source": [
        "#We have 𝑒 as following : e = [[1,2,3],[4,5,6],[7,8,9]]. Change 𝑒 as a numpy array and print it.\n",
        "\n",
        "e = [[1,2,3],[4,5,6],[7,8,9]]\n",
        "arr = np.array(e)\n",
        "print(e)\n",
        "print(arr)\n"
      ],
      "execution_count": 0,
      "outputs": [
        {
          "output_type": "stream",
          "text": [
            "[[1, 2, 3], [4, 5, 6], [7, 8, 9]]\n",
            "[[1 2 3]\n",
            " [4 5 6]\n",
            " [7 8 9]]\n"
          ],
          "name": "stdout"
        }
      ]
    },
    {
      "cell_type": "code",
      "metadata": {
        "id": "I3ZjjSD_yBFo",
        "colab_type": "code",
        "outputId": "07001d8c-6c4d-4fc3-a4a1-e4b431086174",
        "colab": {
          "base_uri": "https://localhost:8080/",
          "height": 191
        }
      },
      "source": [
        "#𝑓 and 𝑔 are two square matrices of size 5 such that all the entries of 𝑓 are 1 and 𝑔 is an identity matrix. Initialize them and print them\n",
        "f=np.empty([5,5])\n",
        "f.fill(1)\n",
        "print(f)\n",
        "I=np.identity(5)\n",
        "print(I)"
      ],
      "execution_count": 0,
      "outputs": [
        {
          "output_type": "stream",
          "text": [
            "[[1. 1. 1. 1. 1.]\n",
            " [1. 1. 1. 1. 1.]\n",
            " [1. 1. 1. 1. 1.]\n",
            " [1. 1. 1. 1. 1.]\n",
            " [1. 1. 1. 1. 1.]]\n",
            "[[1. 0. 0. 0. 0.]\n",
            " [0. 1. 0. 0. 0.]\n",
            " [0. 0. 1. 0. 0.]\n",
            " [0. 0. 0. 1. 0.]\n",
            " [0. 0. 0. 0. 1.]]\n"
          ],
          "name": "stdout"
        }
      ]
    },
    {
      "cell_type": "code",
      "metadata": {
        "id": "vbmuc6dUyWX0",
        "colab_type": "code",
        "outputId": "192db3b1-dd1b-42e5-b1f2-9f0f539fc76b",
        "colab": {
          "base_uri": "https://localhost:8080/",
          "height": 382
        }
      },
      "source": [
        "#Reshape 𝑐 into a 10×10 matrix and name it ℎ. Now flatten ℎ, call it 𝑐′ and print YES when the shapes of 𝑐 and 𝑐′ are same. Otherwise print \n",
        "print(c)\n",
        "h=c.reshape([10,10])\n",
        "print(h)\n",
        "cf=h.flatten()\n",
        "print(cf)\n",
        "if c.shape == h.shape:\n",
        "  print(\"YES\")\n",
        "else:\n",
        "  print(\"NO\")\n"
      ],
      "execution_count": 0,
      "outputs": [
        {
          "output_type": "stream",
          "text": [
            "[ 0  1  2  3  4  5  6  7  8  9 10 11 12 13 14 15 16 17 18 19 20 21 22 23\n",
            " 24 25 26 27 28 29 30 31 32 33 34 35 36 37 38 39 40 41 42 43 44 45 46 47\n",
            " 48 49 50 51 52 53 54 55 56 57 58 59 60 61 62 63 64 65 66 67 68 69 70 71\n",
            " 72 73 74 75 76 77 78 79 80 81 82 83 84 85 86 87 88 89 90 91 92 93 94 95\n",
            " 96 97 98 99]\n",
            "[[ 0  1  2  3  4  5  6  7  8  9]\n",
            " [10 11 12 13 14 15 16 17 18 19]\n",
            " [20 21 22 23 24 25 26 27 28 29]\n",
            " [30 31 32 33 34 35 36 37 38 39]\n",
            " [40 41 42 43 44 45 46 47 48 49]\n",
            " [50 51 52 53 54 55 56 57 58 59]\n",
            " [60 61 62 63 64 65 66 67 68 69]\n",
            " [70 71 72 73 74 75 76 77 78 79]\n",
            " [80 81 82 83 84 85 86 87 88 89]\n",
            " [90 91 92 93 94 95 96 97 98 99]]\n",
            "[ 0  1  2  3  4  5  6  7  8  9 10 11 12 13 14 15 16 17 18 19 20 21 22 23\n",
            " 24 25 26 27 28 29 30 31 32 33 34 35 36 37 38 39 40 41 42 43 44 45 46 47\n",
            " 48 49 50 51 52 53 54 55 56 57 58 59 60 61 62 63 64 65 66 67 68 69 70 71\n",
            " 72 73 74 75 76 77 78 79 80 81 82 83 84 85 86 87 88 89 90 91 92 93 94 95\n",
            " 96 97 98 99]\n",
            "NO\n"
          ],
          "name": "stdout"
        }
      ]
    },
    {
      "cell_type": "code",
      "metadata": {
        "id": "_vDBYcbz0FQa",
        "colab_type": "code",
        "outputId": "e303cb0f-cd90-411a-990c-516801517543",
        "colab": {
          "base_uri": "https://localhost:8080/",
          "height": 799
        }
      },
      "source": [
        "#Let 𝐴 denote a randomly initialized three dimensional matrix of shape (2,10,5). Transpose 𝐴, call it 𝐴′, such that its shape is (5,2,10) and print it.\n",
        "A = np.random.rand(2,10,5)\n",
        "print(A)\n",
        "AT = A.transpose(2,0,1)\n",
        "print(AT)"
      ],
      "execution_count": 0,
      "outputs": [
        {
          "output_type": "stream",
          "text": [
            "[[[0.48046036 0.28893974 0.69152767 0.90798948 0.56917926]\n",
            "  [0.49768028 0.60235608 0.25688676 0.26969505 0.06601287]\n",
            "  [0.8444161  0.64068633 0.37868855 0.03886554 0.28389505]\n",
            "  [0.61280962 0.99377697 0.9065779  0.73075844 0.51288635]\n",
            "  [0.91581089 0.64649929 0.24384585 0.55281895 0.76809485]\n",
            "  [0.46750566 0.70873342 0.82264359 0.48216479 0.54656205]\n",
            "  [0.55168496 0.2922896  0.05389838 0.59021392 0.86179284]\n",
            "  [0.18363359 0.71059832 0.82011933 0.47620266 0.34404063]\n",
            "  [0.32173943 0.24493694 0.042996   0.0941364  0.51623426]\n",
            "  [0.26048645 0.00678314 0.37097267 0.3539766  0.55044836]]\n",
            "\n",
            " [[0.59304079 0.42462719 0.15274773 0.11854214 0.13083263]\n",
            "  [0.49363163 0.72538668 0.08781411 0.65931883 0.71423081]\n",
            "  [0.3018021  0.44187596 0.83359523 0.26907257 0.79861167]\n",
            "  [0.70326723 0.50334076 0.1566791  0.81807134 0.81258659]\n",
            "  [0.4073294  0.82081545 0.75666989 0.16459523 0.85132913]\n",
            "  [0.45637467 0.29591319 0.48133977 0.9585484  0.15549972]\n",
            "  [0.23413112 0.1566193  0.77463691 0.61183619 0.61239388]\n",
            "  [0.21102226 0.8186004  0.48574393 0.36888421 0.57598729]\n",
            "  [0.04940094 0.35678664 0.11405681 0.62207373 0.73649684]\n",
            "  [0.25738064 0.92789624 0.87318443 0.86126835 0.76779702]]]\n",
            "[[[0.48046036 0.49768028 0.8444161  0.61280962 0.91581089 0.46750566\n",
            "   0.55168496 0.18363359 0.32173943 0.26048645]\n",
            "  [0.59304079 0.49363163 0.3018021  0.70326723 0.4073294  0.45637467\n",
            "   0.23413112 0.21102226 0.04940094 0.25738064]]\n",
            "\n",
            " [[0.28893974 0.60235608 0.64068633 0.99377697 0.64649929 0.70873342\n",
            "   0.2922896  0.71059832 0.24493694 0.00678314]\n",
            "  [0.42462719 0.72538668 0.44187596 0.50334076 0.82081545 0.29591319\n",
            "   0.1566193  0.8186004  0.35678664 0.92789624]]\n",
            "\n",
            " [[0.69152767 0.25688676 0.37868855 0.9065779  0.24384585 0.82264359\n",
            "   0.05389838 0.82011933 0.042996   0.37097267]\n",
            "  [0.15274773 0.08781411 0.83359523 0.1566791  0.75666989 0.48133977\n",
            "   0.77463691 0.48574393 0.11405681 0.87318443]]\n",
            "\n",
            " [[0.90798948 0.26969505 0.03886554 0.73075844 0.55281895 0.48216479\n",
            "   0.59021392 0.47620266 0.0941364  0.3539766 ]\n",
            "  [0.11854214 0.65931883 0.26907257 0.81807134 0.16459523 0.9585484\n",
            "   0.61183619 0.36888421 0.62207373 0.86126835]]\n",
            "\n",
            " [[0.56917926 0.06601287 0.28389505 0.51288635 0.76809485 0.54656205\n",
            "   0.86179284 0.34404063 0.51623426 0.55044836]\n",
            "  [0.13083263 0.71423081 0.79861167 0.81258659 0.85132913 0.15549972\n",
            "   0.61239388 0.57598729 0.73649684 0.76779702]]]\n"
          ],
          "name": "stdout"
        }
      ]
    },
    {
      "cell_type": "code",
      "metadata": {
        "id": "5y2dV25g14lq",
        "colab_type": "code",
        "outputId": "7dfddd64-ca54-4fc5-8e89-a0dc92bb0c0d",
        "colab": {
          "base_uri": "https://localhost:8080/",
          "height": 469
        }
      },
      "source": [
        "'''\n",
        "You have a matrix 𝑋 of size (10,5) filled with random values. Print the following :\n",
        "\n",
        "    Minimum value and index where it occured, for each column\n",
        "    Maximum value and the index where it occured, for each column\n",
        "    Minimum value and index where it occured, for each row\n",
        "    Maximum value and index where it occured, for each row\n",
        "    Minimum value and index where it occured, for the entire matrix\n",
        "    Maximum value and index where it occured, for the entire matrix\n",
        "'''\n",
        "X = np.empty([10,5])\n",
        "\n",
        "print(np.argmin(X,axis=0))\n",
        "print(np.argmax(X,axis=0))\n",
        "print(np.argmin(X,axis=1))\n",
        "print(np.argmax(X,axis=1))\n",
        "print(np.amin(X))\n",
        "print(np.amax(X))\n",
        "print(X)\n",
        "\n",
        "\n",
        "\n",
        "\n"
      ],
      "execution_count": 0,
      "outputs": [
        {
          "output_type": "stream",
          "text": [
            "[0 1 0 0 5]\n",
            "[7 7 7 8 7]\n",
            "[3 1 2 3 0 4 3 3 4 2]\n",
            "[4 3 1 2 3 0 2 2 3 1]\n",
            "0.0\n",
            "8.496307828983975e+136\n",
            "[[2.01801232e-316 1.35710504e-153 1.35827041e-153 0.00000000e+000\n",
            "  3.00735176e-067]\n",
            " [5.54760571e-048 0.00000000e+000 1.96805123e-062 3.63042743e-043\n",
            "  1.04857803e-142]\n",
            " [8.57631745e-043 1.03699796e-042 4.56342110e-072 1.13907626e-071\n",
            "  1.36546825e-071]\n",
            " [1.65019454e-153 1.65602137e-153 1.65718674e-153 1.20771395e-153\n",
            "  1.20887932e-153]\n",
            " [1.21004469e-153 4.58663944e-072 8.46088825e-053 1.56076428e-033\n",
            "  4.02473852e-066]\n",
            " [7.42433215e-047 1.81816158e-321 1.89242145e-052 2.31004096e-052\n",
            "  0.00000000e+000]\n",
            " [1.81152938e-152 1.81152938e-152 1.16096346e-028 1.50656320e-153\n",
            "  1.50772857e-153]\n",
            " [1.16467185e-028 8.49629008e+136 8.49630783e+136 6.04114745e-154\n",
            "  1.29040557e-057]\n",
            " [2.38038710e-038 1.55286349e-033 3.87609918e-033 4.64647120e-033\n",
            "  4.16304307e-062]\n",
            " [5.13538927e-062 6.10773546e-062 1.80431417e-153 1.80547953e-153\n",
            "  1.80664490e-153]]\n"
          ],
          "name": "stdout"
        }
      ]
    },
    {
      "cell_type": "code",
      "metadata": {
        "id": "ODNgWLwW3KEt",
        "colab_type": "code",
        "outputId": "74178fad-f520-4cf4-aba2-b9f80c4f173e",
        "colab": {
          "base_uri": "https://localhost:8080/",
          "height": 156
        }
      },
      "source": [
        "np.random.seed(0)\n",
        "X = np.random.rand(10,5)\n",
        "'''\n",
        "Find and print the following for the matrix X:\n",
        "\n",
        "    Mean of each row and column\n",
        "    Standard deviation of each row and column\n",
        "    Mean of the entire matrix\n",
        "    Standard deviation of entire matrix\n",
        "\n",
        "'''\n",
        "print(np.mean(X,axis=0))\n",
        "print(np.mean(X,axis=1))\n",
        "print(np.std(X,axis=0))\n",
        "print(np.std(X,axis=1))\n",
        "print(np.mean(X))\n",
        "print(np.std(X))"
      ],
      "execution_count": 0,
      "outputs": [
        {
          "output_type": "stream",
          "text": [
            "[0.56044382 0.46781457 0.62009909 0.64025127 0.40121685]\n",
            "[0.56706085 0.66447172 0.57705944 0.51762729 0.62761197 0.5328907\n",
            " 0.41643268 0.69444672 0.44423265 0.33781717]\n",
            "[0.24687647 0.25752158 0.22948615 0.28054144 0.26584905]\n",
            "[0.09445299 0.23322986 0.29189733 0.38052993 0.30431633 0.26338419\n",
            " 0.25841437 0.12727959 0.23169975 0.18537332]\n",
            "0.5379651182755409\n",
            "0.27226582292177587\n"
          ],
          "name": "stdout"
        }
      ]
    },
    {
      "cell_type": "code",
      "metadata": {
        "id": "BRIwIpb-IWGU",
        "colab_type": "code",
        "outputId": "7d2c3f08-077f-4dd4-90f9-b74e1e8b498e",
        "colab": {
          "base_uri": "https://localhost:8080/",
          "height": 1000
        }
      },
      "source": [
        "'''\n",
        "Let 𝑌 denote a square matrix of size 10 with random values. Print the following:\n",
        "\n",
        "    Determinant\n",
        "    Rank of the matrix\n",
        "    Diagonal Elements\n",
        "    Trace\n",
        "    Eigen values\n",
        "    Matrices obtained after Singular Value Decomposition\n",
        "    Inverse if exists, otherwise Pseudo-Inverse\n",
        "    Multiplication 𝑌 with 𝑋\n",
        "    Element-wise multiplication of 𝑌 and its inverse(or pseudo-inverse)\n",
        "'''\n",
        "\n",
        "np.random.seed(3)\n",
        "Y = np.random.rand(10,10)\n",
        "\n",
        "print(np.linalg.det(Y))\n",
        "print(np.linalg.matrix_rank(Y))\n",
        "print(np.diagonal(Y))\n",
        "print(np.trace(Y))\n",
        "print(np.linalg.eigvals(Y))\n",
        "u, s, vh = np.linalg.svd(Y, full_matrices=True)\n",
        "print(u.shape, s.shape, vh.shape)\n",
        "print(u,s,vh)\n",
        "print(\"Inverse\")\n",
        "print(np.linalg.inv(Y))\n"
      ],
      "execution_count": 0,
      "outputs": [
        {
          "output_type": "stream",
          "text": [
            "-0.012807808169095483\n",
            "10\n",
            "[0.5507979  0.45683322 0.44045372 0.84575087 0.4576864  0.36217621\n",
            " 0.06152893 0.19897603 0.92672568 0.19638058]\n",
            "4.497309545724899\n",
            "[ 4.797525  +0.j          0.72411408+0.52238181j  0.72411408-0.52238181j\n",
            " -0.48250062+0.55413671j -0.48250062-0.55413671j -0.6909002 +0.j\n",
            " -0.25905659+0.32357377j -0.25905659-0.32357377j  0.2127855 +0.08352477j\n",
            "  0.2127855 -0.08352477j]\n",
            "(10, 10) (10,) (10, 10)\n",
            "[[-0.31776408 -0.02455508 -0.60644878 -0.17883359 -0.12672161  0.14873878\n",
            "  -0.17823942 -0.52859453 -0.02295855 -0.38570883]\n",
            " [-0.26118514 -0.10864541 -0.24911354  0.26547359  0.52168399 -0.25773901\n",
            "  -0.46995326  0.21752636 -0.39285046  0.16234491]\n",
            " [-0.31347907 -0.34483471 -0.25292297  0.1214296   0.1486964   0.33436315\n",
            "   0.54080229  0.48017168  0.05660692 -0.20966421]\n",
            " [-0.35815379  0.59490017  0.30255161  0.15850614 -0.11046295  0.3051409\n",
            "   0.07395537  0.03044889 -0.50561658 -0.18384856]\n",
            " [-0.28385845 -0.18085696 -0.1583078   0.10535533 -0.46807835 -0.08377643\n",
            "   0.24075452 -0.16170764 -0.24786952  0.69201648]\n",
            " [-0.28871348 -0.27577124  0.40271105  0.60433658  0.11931679 -0.04899205\n",
            "   0.02593316 -0.44875145  0.27874747 -0.12964796]\n",
            " [-0.27897316  0.00398904  0.20819753 -0.52536617  0.41116881 -0.41991923\n",
            "   0.42687225 -0.24145621 -0.12958507 -0.00984813]\n",
            " [-0.24788529  0.48136836 -0.15792433 -0.02303902  0.3246308   0.25755952\n",
            "  -0.01429533 -0.03088365  0.56052488  0.44079262]\n",
            " [-0.37505167 -0.36728578  0.39799373 -0.45186801 -0.10830044  0.34456765\n",
            "  -0.4447402   0.14147957  0.0716725   0.09192695]\n",
            " [-0.40049601  0.19846099 -0.02705464  0.02500837 -0.39745062 -0.57941613\n",
            "  -0.10288216  0.3673956   0.33321483 -0.22039139]] [4.89636645 1.42832104 1.17173389 0.94068764 0.76892251 0.62457278\n",
            " 0.52105948 0.28969576 0.24512275 0.09350223] [[-0.28816735 -0.35560525 -0.33294235 -0.33250662 -0.36658188 -0.3625847\n",
            "  -0.26573249 -0.23278667 -0.30457183 -0.29270444]\n",
            " [ 0.53693497  0.11306854  0.39562078  0.25099719 -0.07369559 -0.37753546\n",
            "  -0.08584363  0.00333609 -0.2399022  -0.51623983]\n",
            " [-0.084609   -0.22589744 -0.00306935  0.1954239  -0.327784   -0.49318928\n",
            "   0.42323124  0.18588504  0.58200169  0.02301787]\n",
            " [ 0.01388163 -0.2631197   0.42190391 -0.53612946  0.01058633 -0.04415909\n",
            "   0.29385139  0.49501812 -0.32731018  0.15669071]\n",
            " [-0.27340804  0.28220631  0.28945859 -0.1626885   0.14790418 -0.35915036\n",
            "  -0.64971879  0.23854611  0.29589227  0.1337842 ]\n",
            " [ 0.10830593  0.27974551 -0.20571161  0.10308827  0.10096026 -0.5325142\n",
            "   0.15994871 -0.16150892 -0.3941055   0.59692177]\n",
            " [ 0.44882085  0.34972045 -0.01773924 -0.50737391 -0.52251393  0.11970007\n",
            "  -0.02807841 -0.20137782  0.25705553  0.15409283]\n",
            " [-0.35599817 -0.05022624  0.63427946  0.20935183 -0.34847081  0.11510691\n",
            "   0.03182222 -0.47748403 -0.1161671   0.21777064]\n",
            " [ 0.18417681 -0.32168889  0.15954963 -0.32397524  0.5548368  -0.1807982\n",
            "   0.08626619 -0.55063636  0.28439362 -0.01119242]\n",
            " [-0.41560913  0.59522266  0.02089304 -0.23979844  0.13515565 -0.0893732\n",
            "   0.44674689 -0.10709455 -0.02239562 -0.42098815]]\n",
            "Inverse\n",
            "[[ 2.31470983 -1.92264991  0.7642126   0.78096977 -2.74248585  1.20175092\n",
            "   0.38693174 -1.37664514 -0.96484143  0.83123246]\n",
            " [-2.24504111  1.25605742 -0.91466223 -0.39587642  4.71823627 -1.32162185\n",
            "   0.52594984  2.39368168  0.33051878 -2.33540101]\n",
            " [-1.41290916  0.66149939  0.94968095 -0.18869248 -0.50069581 -0.55664939\n",
            "  -0.55275157  0.57384943 -0.04209635  1.11025544]\n",
            " [ 0.88051129  0.37055438  0.15632501  1.25248223 -1.81219563 -0.7249179\n",
            "  -0.19613524 -1.81766381  0.56943994  0.52226388]\n",
            " [ 0.39743656 -0.28842728 -1.09880632 -1.57965965  0.36480771  0.90235521\n",
            "  -0.47743451  2.09911148  0.53638288 -0.04562024]\n",
            " [ 0.36068175  0.22958502  0.33426258  0.10367281 -0.06700744 -0.37158555\n",
            "   0.22972702 -1.26286862 -0.45133033  0.75430018]\n",
            " [-2.01045364  0.19347423 -1.01393804 -0.74303568  3.56449935 -0.31892146\n",
            "  -0.67116163  2.01265699  0.72873355 -0.69454601]\n",
            " [ 1.18043988  0.86047396 -0.88991494  1.30425635 -0.14247318  0.69661973\n",
            "   0.5413572  -1.69774697 -0.60797727 -1.00698216]\n",
            " [-0.1679456  -0.63197036 -0.0540802  -0.73587818 -0.46423184  0.67805628\n",
            "   0.88551393  0.37662528 -0.03416891  0.42341327]\n",
            " [ 1.3938872  -0.74982353  1.96636643  1.00676681 -3.21953806  0.44078124\n",
            "  -0.40298654 -1.90114336 -0.04414834  0.55576763]]\n"
          ],
          "name": "stdout"
        }
      ]
    },
    {
      "cell_type": "code",
      "metadata": {
        "id": "xW5fHFeEI0zu",
        "colab_type": "code",
        "outputId": "87b5a5d3-f7b1-4c24-f3a3-5a60278adcbe",
        "colab": {
          "base_uri": "https://localhost:8080/",
          "height": 173
        }
      },
      "source": [
        "# Initial imports\n",
        "import numpy as np\n",
        "import matplotlib.pyplot as plt\n",
        "import pandas as pd\n",
        "\n",
        "#Download dataset from: http://biostat.mc.vanderbilt.edu/wiki/pub/Main/DataSets/titanic3.csv\n",
        "#Download dataset from: http://biostat.mc.vanderbilt.edu/wiki/pub/Main/DataSets/titanic3.csv Read the data and display the first 5 rows\n",
        "#file_url = \"http://biostat.mc.vanderbilt.edu/wiki/pub/Main/DataSets/titanic3.csv\"\n",
        "\n",
        "dt = pd.read_csv(\"http://biostat.mc.vanderbilt.edu/wiki/pub/Main/DataSets/titanic3.csv\")\n",
        "print(dt.head())\n",
        "#Convert the categorical values of columns 'sex', 'embarked', 'pclass' into dummy values and add them into titanic_data_new DataFrame\n",
        "dt.fillna(dt.mean())\n",
        "titanic_data_new=pd.get_dummies(dt, columns=['sex', 'embarked','pclass'])\n",
        "titanic_data_new.head()\n",
        "len(titanic_data_new.columns)\n",
        "\n",
        "titanic_data_new.drop(df.iloc[:, 1:3], inplace = True, axis = 1) \n",
        "\n",
        "\n"
      ],
      "execution_count": 0,
      "outputs": [
        {
          "output_type": "stream",
          "text": [
            "   pclass  survived  ...   body                        home.dest\n",
            "0       1         1  ...    NaN                     St Louis, MO\n",
            "1       1         1  ...    NaN  Montreal, PQ / Chesterville, ON\n",
            "2       1         0  ...    NaN  Montreal, PQ / Chesterville, ON\n",
            "3       1         0  ...  135.0  Montreal, PQ / Chesterville, ON\n",
            "4       1         0  ...    NaN  Montreal, PQ / Chesterville, ON\n",
            "\n",
            "[5 rows x 14 columns]\n"
          ],
          "name": "stdout"
        },
        {
          "output_type": "execute_result",
          "data": {
            "text/plain": [
              "19"
            ]
          },
          "metadata": {
            "tags": []
          },
          "execution_count": 2
        }
      ]
    },
    {
      "cell_type": "code",
      "metadata": {
        "id": "PpjSdCVEOKi9",
        "colab_type": "code",
        "colab": {}
      },
      "source": [
        ""
      ],
      "execution_count": 0,
      "outputs": []
    }
  ]
}