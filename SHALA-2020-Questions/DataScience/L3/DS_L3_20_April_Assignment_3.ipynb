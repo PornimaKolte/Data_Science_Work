{
  "nbformat": 4,
  "nbformat_minor": 0,
  "metadata": {
    "colab": {
      "name": "DS_L3_20_April_Assignment_3.ipynb",
      "provenance": [],
      "collapsed_sections": []
    },
    "kernelspec": {
      "name": "python3",
      "display_name": "Python 3"
    }
  },
  "cells": [
    {
      "cell_type": "markdown",
      "metadata": {
        "id": "8AXXi8pFSuyQ",
        "colab_type": "text"
      },
      "source": [
        "\n",
        "# **Assignment - 3: Improving Graphs**\n",
        "\n",
        "---\n",
        "Course website: [SHALA-2020](https://shala2020.github.io/)\n",
        "\n",
        "This assignment will get you familiarized with improving plots/graphs in Python. "
      ]
    },
    {
      "cell_type": "markdown",
      "metadata": {
        "id": "zfzGTdwUS-eP",
        "colab_type": "text"
      },
      "source": [
        "---\n",
        "## Part 1 - Importing packages and loading data \n",
        "---"
      ]
    },
    {
      "cell_type": "markdown",
      "metadata": {
        "id": "YQIKucddS_nA",
        "colab_type": "text"
      },
      "source": [
        "###Import the following libraries:  \n",
        "\n",
        "* ```numpy``` with an alias name ```np```, \n",
        "* ```pandas``` with an alias name ```pd```, \n",
        "* ```matplotlib.pyplot``` with an alias name ```plt```, and \n",
        "* ```seaborn``` with an alias name ```sns```. \n",
        "\n",
        "*You are free to use any other popular libraries*. "
      ]
    },
    {
      "cell_type": "code",
      "metadata": {
        "id": "0BJxaUABR-4q",
        "colab_type": "code",
        "colab": {}
      },
      "source": [
        "# Load the libraries with their aliases \n",
        "\n"
      ],
      "execution_count": 0,
      "outputs": []
    },
    {
      "cell_type": "markdown",
      "metadata": {
        "id": "DCfU-kQrTa4h",
        "colab_type": "text"
      },
      "source": [
        "### Using the files ```train.csv``` and ```moviesData.csv```,  peform the following:\n",
        "\n",
        "* Load these file as ```pandas``` dataframes and store it in variables named ```train``` and ```movies``` respectively. \n",
        "* Print the first ten rows of ```train``` and last ten rows of ```movies```. "
      ]
    },
    {
      "cell_type": "code",
      "metadata": {
        "id": "xIaAWjd_Tl_s",
        "colab_type": "code",
        "colab": {}
      },
      "source": [
        "# Load train.csv and movies.csv \n",
        "url_train = \"https://raw.githubusercontent.com/shala2020/shala2020.github.io/master/Lecture_Materials/Assignments/DataScience/L2/train.csv\"\n",
        "train = pd.read_csv(url_train)\n",
        "\n",
        "# Print the first ten rows of train\n",
        "\n"
      ],
      "execution_count": 0,
      "outputs": []
    },
    {
      "cell_type": "code",
      "metadata": {
        "id": "0o_LlJ04fzgK",
        "colab_type": "code",
        "colab": {}
      },
      "source": [
        "# Load movies.csv\n",
        "url_movies = \"https://raw.githubusercontent.com/shala2020/shala2020.github.io/master/Lecture_Materials/Google_Colab_Notebooks/DataScience/L2/moviesData.csv\"\n",
        "movies = pd.read_csv(url_movies)\n",
        "\n",
        "# Print the last ten rows of movies \n"
      ],
      "execution_count": 0,
      "outputs": []
    },
    {
      "cell_type": "markdown",
      "metadata": {
        "id": "6fyLpq2LVuDl",
        "colab_type": "text"
      },
      "source": [
        "---\n",
        "## Part 2 - Drawing correlation and heatmap \n",
        "---"
      ]
    },
    {
      "cell_type": "markdown",
      "metadata": {
        "id": "yFkmY_N9ThPT",
        "colab_type": "text"
      },
      "source": [
        "### Using the correlation matrix, peform the following:\n",
        "\n",
        "* Find the correlation matrix for the ```movies```.  \n",
        "* Draw a **heatmap** with the correlation matrix and display the values of correlation coefficients for each pair of features. Make sure the values are properly visible. You might want to adjust the figure size for this. \n",
        "* Create a ```mask``` to remove the duplicate values from the **heatmap**. "
      ]
    },
    {
      "cell_type": "code",
      "metadata": {
        "id": "3JhqkVZ7VNej",
        "colab_type": "code",
        "colab": {}
      },
      "source": [
        "# Find out the correlation matrix \n",
        "\n",
        "# Draw the heatmap \n",
        "\n"
      ],
      "execution_count": 0,
      "outputs": []
    },
    {
      "cell_type": "code",
      "metadata": {
        "id": "m-U-oootigJQ",
        "colab_type": "code",
        "colab": {}
      },
      "source": [
        "# Creating a mask for removing duplicates \n"
      ],
      "execution_count": 0,
      "outputs": []
    },
    {
      "cell_type": "markdown",
      "metadata": {
        "id": "I-VzLRngWuoq",
        "colab_type": "text"
      },
      "source": [
        "---\n",
        "## Part 3 - Drawing plots and customizing these \n",
        "---"
      ]
    },
    {
      "cell_type": "markdown",
      "metadata": {
        "id": "syeshF3sW180",
        "colab_type": "text"
      },
      "source": [
        "### Using a histogram, peform the following:\n",
        "\n",
        "* Draw a histogram of all the numeric features in ```train```. Please note that this can be done in a single command.  \n",
        "\n",
        "* Find out whether there is any redundant features in ```train```, which can be dropped while building a model. "
      ]
    },
    {
      "cell_type": "code",
      "metadata": {
        "id": "owsgy5JLZIIH",
        "colab_type": "code",
        "colab": {}
      },
      "source": [
        "# Draw a histogram \n",
        "\n",
        "# Find out the redundant features "
      ],
      "execution_count": 0,
      "outputs": []
    },
    {
      "cell_type": "markdown",
      "metadata": {
        "id": "g2hQHS-rZdbE",
        "colab_type": "text"
      },
      "source": [
        "### Using a scatter plot, perform the following:\n",
        "\n",
        "* Draw a scatter plot between between ```imdb_rating``` and ```audience_score```, and also fit a regression line.\n",
        "* Change the color of marker to red, size to 200, transparency to 0.3.    \n",
        "\n"
      ]
    },
    {
      "cell_type": "code",
      "metadata": {
        "id": "H-C3T6PHb5qT",
        "colab_type": "code",
        "colab": {}
      },
      "source": [
        "# Scatter plot to fit the regression line \n",
        " "
      ],
      "execution_count": 0,
      "outputs": []
    },
    {
      "cell_type": "code",
      "metadata": {
        "id": "UY_R6uF3kInV",
        "colab_type": "code",
        "colab": {}
      },
      "source": [
        "# Change marker of the scatter plot\n"
      ],
      "execution_count": 0,
      "outputs": []
    },
    {
      "cell_type": "markdown",
      "metadata": {
        "id": "4Qg3SvfpmNFj",
        "colab_type": "text"
      },
      "source": [
        "### Using a scatter plot, perform the following:\n",
        "\n",
        "* Load the dataset ```iris```. This has been done for you.\n",
        "* Draw a scatter plot between between ```petal_length``` and ```petal_width``` and color it according to the ```species```.\n",
        "* Change the size of marker to 100 and place the legend in ```lower right```. "
      ]
    },
    {
      "cell_type": "code",
      "metadata": {
        "id": "7D_r9PIBlOe8",
        "colab_type": "code",
        "colab": {}
      },
      "source": [
        "# library & dataset\n",
        "import seaborn as sns\n",
        "df = sns.load_dataset('iris')\n",
        " \n",
        "# Use the 'hue' argument to provide a factor variable\n",
        "\n",
        " \n",
        "# Move the legend to an empty part of the plot\n",
        "\n"
      ],
      "execution_count": 0,
      "outputs": []
    },
    {
      "cell_type": "markdown",
      "metadata": {
        "id": "20Tunkqin5WZ",
        "colab_type": "text"
      },
      "source": [
        "---\n",
        "## Part 4 - Density Plots  \n",
        "---"
      ]
    },
    {
      "cell_type": "markdown",
      "metadata": {
        "id": "2IdfsDTgoX-O",
        "colab_type": "text"
      },
      "source": [
        "### Using density plots, perform the following:\n",
        "\n",
        "* Load the dataset ```iris```. This has been done for you.\n",
        "* Draw the density plots for all the features ```sepal_width```, ```sepal_length```, ```petal_width```, and ```petal_length```. You can required to use subplots for plotting all the density plots. \n",
        "* Try drawing a [CDF](https://en.wikipedia.org/wiki/Cumulative_distribution_function) of these features. There is a [blog on medium](https://medium.com/@rishav.jnit/exploratory-data-analysis-eda-on-iris-dataset-using-python-cadd850c1fc6) on how to plot CDF. It will be covered in tutorial. "
      ]
    },
    {
      "cell_type": "code",
      "metadata": {
        "id": "hZEjXe29n4r4",
        "colab_type": "code",
        "colab": {}
      },
      "source": [
        "# library and dataset \n",
        "df = sns.load_dataset('iris')\n"
      ],
      "execution_count": 0,
      "outputs": []
    },
    {
      "cell_type": "markdown",
      "metadata": {
        "id": "nj5n8rdKKgKe",
        "colab_type": "text"
      },
      "source": [
        "### Using violin plot, perform the following:\n",
        "\n",
        "* Load the dataset ```iris```. This has been done for you.\n",
        "* Draw the density plots of ```species``` versus ```sepal_length```.\n",
        "* Assign each group a color like \n",
        "\n",
        "    * versicolor - green, \n",
        "    * setosa - blue,   \n",
        "    * virginica - m"
      ]
    },
    {
      "cell_type": "code",
      "metadata": {
        "id": "BRIpHxsgKgnG",
        "colab_type": "code",
        "colab": {}
      },
      "source": [
        "# Draw the normal violin plots \n"
      ],
      "execution_count": 0,
      "outputs": []
    },
    {
      "cell_type": "code",
      "metadata": {
        "id": "zDRZgdJ8MMbs",
        "colab_type": "code",
        "colab": {}
      },
      "source": [
        "# Change the color of each group \n",
        "\n"
      ],
      "execution_count": 0,
      "outputs": []
    }
  ]
}